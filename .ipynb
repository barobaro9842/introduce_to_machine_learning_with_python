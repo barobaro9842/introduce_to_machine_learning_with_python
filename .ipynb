{
 "cells": [
  {
   "cell_type": "markdown",
   "id": "1b2dbacf-b9b2-4846-86a9-181d9cdeff51",
   "metadata": {},
   "source": [
    "## 지도학습"
   ]
  },
  {
   "cell_type": "code",
   "execution_count": null,
   "id": "a8867ed8-d735-41c1-b0c0-8f2155a906d5",
   "metadata": {},
   "outputs": [],
   "source": []
  }
 ],
 "metadata": {
  "kernelspec": {
   "display_name": "Python 3",
   "language": "python",
   "name": "python3"
  },
  "language_info": {
   "codemirror_mode": {
    "name": "ipython",
    "version": 3
   },
   "file_extension": ".py",
   "mimetype": "text/x-python",
   "name": "python",
   "nbconvert_exporter": "python",
   "pygments_lexer": "ipython3",
   "version": "3.8.8"
  }
 },
 "nbformat": 4,
 "nbformat_minor": 5
}
