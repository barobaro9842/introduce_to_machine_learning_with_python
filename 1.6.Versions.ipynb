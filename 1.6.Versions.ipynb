{
 "cells": [
  {
   "cell_type": "code",
   "execution_count": 6,
   "id": "d22e6108-65a6-4e45-b114-30301b3f87e8",
   "metadata": {},
   "outputs": [
    {
     "name": "stdout",
     "output_type": "stream",
     "text": [
      "Python 버전 :  3.8.8 (default, Apr 13 2021, 12:59:45) \n",
      "[Clang 10.0.0 ]\n",
      "Pandas 버전 :  1.2.4\n",
      "matplotlib 버전 :  3.3.4\n",
      "Numpy 버전 :  1.20.1\n",
      "Scipy 버전 :  1.6.2\n",
      "IPython 버전 :  7.22.0\n",
      "scikit-learn 버전 :  0.24.1\n"
     ]
    }
   ],
   "source": [
    "import sys\n",
    "print(\"Python 버전 : \", sys.version)\n",
    "\n",
    "import pandas as pd\n",
    "print(\"Pandas 버전 : \", pd.__version__)\n",
    "\n",
    "import matplotlib\n",
    "print(\"matplotlib 버전 : \", matplotlib.__version__)\n",
    "\n",
    "import numpy as np\n",
    "print(\"Numpy 버전 : \", np.__version__)\n",
    "\n",
    "import scipy as sp\n",
    "print(\"Scipy 버전 : \", sp.__version__)\n",
    "\n",
    "import IPython\n",
    "print(\"IPython 버전 : \",IPython.__version__)\n",
    "\n",
    "import sklearn\n",
    "print(\"scikit-learn 버전 : \", sklearn.__version__)"
   ]
  },
  {
   "cell_type": "code",
   "execution_count": null,
   "id": "54b3e015-7502-4abc-93b0-797711077a90",
   "metadata": {},
   "outputs": [],
   "source": []
  }
 ],
 "metadata": {
  "kernelspec": {
   "display_name": "Python 3",
   "language": "python",
   "name": "python3"
  },
  "language_info": {
   "codemirror_mode": {
    "name": "ipython",
    "version": 3
   },
   "file_extension": ".py",
   "mimetype": "text/x-python",
   "name": "python",
   "nbconvert_exporter": "python",
   "pygments_lexer": "ipython3",
   "version": "3.8.8"
  }
 },
 "nbformat": 4,
 "nbformat_minor": 5
}
