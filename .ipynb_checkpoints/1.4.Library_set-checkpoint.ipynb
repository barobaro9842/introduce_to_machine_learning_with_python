{
 "cells": [
  {
   "cell_type": "markdown",
   "id": "35ee6921-b13e-4525-a41e-4a4848e9d4a7",
   "metadata": {},
   "source": [
    "## 1.4.2. Numpy\n",
    "\n",
    "**다차원 배열**, 선형대수 연산, 푸리에 변환 등 수학함수와 유사 난수 생성기 포함   \n",
    "Numpy 배열은 Scikit-learn의 기본 데이터 구조\n",
    "\n",
    "핵심 기능 : 다차원 배열 ndarray"
   ]
  },
  {
   "cell_type": "code",
   "execution_count": 1,
   "id": "dd3da82e-98e1-449b-87d4-363148dc1365",
   "metadata": {},
   "outputs": [],
   "source": [
    "import numpy as np"
   ]
  },
  {
   "cell_type": "code",
   "execution_count": 2,
   "id": "dee05b45-85b9-440e-8646-a012873fbb19",
   "metadata": {},
   "outputs": [
    {
     "name": "stdout",
     "output_type": "stream",
     "text": [
      "x:\n",
      " [[1 2 3]\n",
      " [4 5 6]]\n"
     ]
    }
   ],
   "source": [
    "x = np.array([[1,2,3],[4,5,6]])\n",
    "print(\"x:\\n\", x)"
   ]
  },
  {
   "cell_type": "markdown",
   "id": "4796f878-54d7-4509-bd6a-e5e2c3a99abb",
   "metadata": {},
   "source": [
    "## 1.4.3. Scipy\n",
    "\n",
    "과학 계산용 함수 모음   \n",
    "고성능 선형 대수, 함수 최적화, 신호처리, 특수한 수학 함수와 통계 분포 등을 포함한 기능 제공"
   ]
  },
  {
   "cell_type": "code",
   "execution_count": 4,
   "id": "51d95624-954e-4650-8a34-b9a0bbc7fdbf",
   "metadata": {},
   "outputs": [],
   "source": [
    "from scipy import sparse #sparse = 0을 다수 포함한 희소행렬 표현"
   ]
  },
  {
   "cell_type": "code",
   "execution_count": 6,
   "id": "c91503e4-9125-4252-a634-9493dbc59cd3",
   "metadata": {},
   "outputs": [
    {
     "name": "stdout",
     "output_type": "stream",
     "text": [
      "Numpy 배열 : \n",
      " [[1. 0. 0. 0.]\n",
      " [0. 1. 0. 0.]\n",
      " [0. 0. 1. 0.]\n",
      " [0. 0. 0. 1.]]\n"
     ]
    }
   ],
   "source": [
    "eye = np.eye(4)\n",
    "print(\"Numpy 배열 : \\n\",eye)"
   ]
  },
  {
   "cell_type": "code",
   "execution_count": 8,
   "id": "668a6e87-5aa9-4c13-a976-a7c2ca235606",
   "metadata": {},
   "outputs": [
    {
     "name": "stdout",
     "output_type": "stream",
     "text": [
      "\n",
      "Scipy의 CSR 행렬 :\n",
      "   (0, 0)\t1.0\n",
      "  (1, 1)\t1.0\n",
      "  (2, 2)\t1.0\n",
      "  (3, 3)\t1.0\n"
     ]
    }
   ],
   "source": [
    "# Numpy 배열을 CSR 포맷의 Scipy 희박 행렬로 변환\n",
    "# 0이 아닌 원소만 저장\n",
    "# 0이 가득찬 2차원 배열로 만들면 메모리 부족을 야기할 수 있음\n",
    "\n",
    "sparse_matrix = sparse.csr_matrix(eye)\n",
    "print(\"\\nScipy의 CSR 행렬 :\\n\", sparse_matrix)"
   ]
  },
  {
   "cell_type": "code",
   "execution_count": 15,
   "id": "dfb40905-bb92-49a9-b6e7-2bc9b7f7d1c0",
   "metadata": {},
   "outputs": [
    {
     "name": "stdout",
     "output_type": "stream",
     "text": [
      "COO 표현 : \n",
      "   (0, 0)\t1.0\n",
      "  (1, 1)\t1.0\n",
      "  (2, 2)\t1.0\n",
      "  (3, 3)\t1.0\n"
     ]
    }
   ],
   "source": [
    "#COO 포맷을 이용하여 앞서와 동일한 희소 행렬 예제\n",
    "\n",
    "data = np.ones(4) #[1,1,1,1]\n",
    "row_indices = np.arange(4) #[0,1,2,3]\n",
    "col_indices = np.arange(4) #[0,1,2,3]\n",
    "eye_coo = sparse.coo_matrix((data, (row_indices, col_indices)))\n",
    "print(\"COO 표현 : \\n\",eye_coo)"
   ]
  },
  {
   "cell_type": "markdown",
   "id": "4c761403-3413-4e62-a87c-583029c4f07a",
   "metadata": {},
   "source": [
    "## 1.4.3.matplotlib\n",
    "\n",
    "대표적인 파이썬 과학계산용 라이브러리   \n",
    "선 그래프, 히스토그램, 산점도 등을 지원하며, 고품질 그래프 제공   \n",
    "%matplotlib inline 또는 notebook을 이용하는 이유 <- 브라우저에서 바로 이미지를 표시"
   ]
  },
  {
   "cell_type": "code",
   "execution_count": 17,
   "id": "1884e2cf-a60d-44b2-907f-0cff62269876",
   "metadata": {},
   "outputs": [],
   "source": [
    "%matplotlib notebook\n",
    "import matplotlib.pyplot as plt"
   ]
  },
  {
   "cell_type": "code",
   "execution_count": 18,
   "id": "ab5521a2-57a9-4db9-bc5c-913add1925a8",
   "metadata": {},
   "outputs": [],
   "source": [
    "# -10 ~ 10까지 100개의 간격으로 나뉘어진 배열을 생성\n",
    "X = np.linspace(-10, 10, 100)\n",
    "# 사인 함수를 사용하여 y 배열을 생성한다.\n",
    "y = np.sin(x)\n",
    "# plot 함수는 한 배열의 값을 다른 배열에 대응해서 선 그래프를 그린다."
   ]
  },
  {
   "cell_type": "code",
   "execution_count": 19,
   "id": "5ab28dde-7ffe-4f23-ae5f-ec4a4cb8e776",
   "metadata": {},
   "outputs": [
    {
     "data": {
      "text/plain": [
       "array([-10.        ,  -9.7979798 ,  -9.5959596 ,  -9.39393939,\n",
       "        -9.19191919,  -8.98989899,  -8.78787879,  -8.58585859,\n",
       "        -8.38383838,  -8.18181818,  -7.97979798,  -7.77777778,\n",
       "        -7.57575758,  -7.37373737,  -7.17171717,  -6.96969697,\n",
       "        -6.76767677,  -6.56565657,  -6.36363636,  -6.16161616,\n",
       "        -5.95959596,  -5.75757576,  -5.55555556,  -5.35353535,\n",
       "        -5.15151515,  -4.94949495,  -4.74747475,  -4.54545455,\n",
       "        -4.34343434,  -4.14141414,  -3.93939394,  -3.73737374,\n",
       "        -3.53535354,  -3.33333333,  -3.13131313,  -2.92929293,\n",
       "        -2.72727273,  -2.52525253,  -2.32323232,  -2.12121212,\n",
       "        -1.91919192,  -1.71717172,  -1.51515152,  -1.31313131,\n",
       "        -1.11111111,  -0.90909091,  -0.70707071,  -0.50505051,\n",
       "        -0.3030303 ,  -0.1010101 ,   0.1010101 ,   0.3030303 ,\n",
       "         0.50505051,   0.70707071,   0.90909091,   1.11111111,\n",
       "         1.31313131,   1.51515152,   1.71717172,   1.91919192,\n",
       "         2.12121212,   2.32323232,   2.52525253,   2.72727273,\n",
       "         2.92929293,   3.13131313,   3.33333333,   3.53535354,\n",
       "         3.73737374,   3.93939394,   4.14141414,   4.34343434,\n",
       "         4.54545455,   4.74747475,   4.94949495,   5.15151515,\n",
       "         5.35353535,   5.55555556,   5.75757576,   5.95959596,\n",
       "         6.16161616,   6.36363636,   6.56565657,   6.76767677,\n",
       "         6.96969697,   7.17171717,   7.37373737,   7.57575758,\n",
       "         7.77777778,   7.97979798,   8.18181818,   8.38383838,\n",
       "         8.58585859,   8.78787879,   8.98989899,   9.19191919,\n",
       "         9.39393939,   9.5959596 ,   9.7979798 ,  10.        ])"
      ]
     },
     "execution_count": 19,
     "metadata": {},
     "output_type": "execute_result"
    }
   ],
   "source": [
    "X"
   ]
  },
  {
   "cell_type": "code",
   "execution_count": null,
   "id": "99b20641-1d94-4182-bcb7-23f93834e3b7",
   "metadata": {},
   "outputs": [],
   "source": []
  }
 ],
 "metadata": {
  "kernelspec": {
   "display_name": "Python 3",
   "language": "python",
   "name": "python3"
  },
  "language_info": {
   "codemirror_mode": {
    "name": "ipython",
    "version": 3
   },
   "file_extension": ".py",
   "mimetype": "text/x-python",
   "name": "python",
   "nbconvert_exporter": "python",
   "pygments_lexer": "ipython3",
   "version": "3.8.8"
  }
 },
 "nbformat": 4,
 "nbformat_minor": 5
}
