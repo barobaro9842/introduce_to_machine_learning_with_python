{
 "cells": [
  {
   "cell_type": "markdown",
   "id": "48a54855-40a9-44b2-a5fb-904c80dc199d",
   "metadata": {},
   "source": [
    "# 2. 지도학습"
   ]
  },
  {
   "cell_type": "markdown",
   "id": "4d8a4417-341c-40fa-be29-55a84b7c5ace",
   "metadata": {},
   "source": [
    "## 2.1. 분류와 회귀"
   ]
  },
  {
   "cell_type": "markdown",
   "id": "25006361-8c62-4242-bd5a-9411735bc362",
   "metadata": {},
   "source": [
    "### 2.1.1. 분류\n",
    "미리 정의된, 가능성 있는 여러 클래스 레이블 중 하나를 예측, 2개로 예측하는 이진분류와 3개 이상으로 예측하는 다중 분류로 나뉨"
   ]
  },
  {
   "cell_type": "markdown",
   "id": "8b14ccd5-dfe0-46d3-946b-4115c5f9adee",
   "metadata": {},
   "source": [
    "### 2.1.2.회귀\n",
    "연속적인숫자 또는 실수(float)를 예측하는 것, 출력값에 연속성이 있다면 회귀문제이다."
   ]
  },
  {
   "cell_type": "markdown",
   "id": "e6d40d89-11fd-49ae-ab1b-c91d3b08a78a",
   "metadata": {},
   "source": [
    "## 2.2. 일반화, 과대적합, 과소적합"
   ]
  },
  {
   "cell_type": "markdown",
   "id": "8b10bb6f-bf1a-436d-80d9-83b9912aee49",
   "metadata": {},
   "source": [
    "#### 일반화(generalization)\n",
    "\n",
    "훈련데이터로 학습한 모델이 새로운 데이터가 들어왔을 때 정확하게 예측할 수 있는 상태.   \n",
    "일반적으로 훈련세트에 대해서만 정확한 아주 복잡한 모델을 만든다면 새로운 데이터에 대해 예측하지 못할 수도 있다.   \n",
    "데이터가 상세할수록, 데이터의 양이 적을 수록, 모델이 복잡할 수록 일반화에 실패할 확률이 높다."
   ]
  },
  {
   "cell_type": "markdown",
   "id": "5a1859e9-34c0-466a-af1d-ad319422f16c",
   "metadata": {},
   "source": [
    "#### 과대적합(overfitting)\n",
    "너무 많은 정보로 훈련하여, 복잡한 모델을 만드는 것   \n",
    "train set에는 잘 맞지만, test set에는 적합하지 않은 모델"
   ]
  },
  {
   "cell_type": "markdown",
   "id": "6c4f4a85-990e-4fe6-a90d-3f37afd466d3",
   "metadata": {},
   "source": [
    "#### 과소적합(underfitting)\n",
    "너무 적은 정보로 훈련하여,   \n",
    "train set과 test set 모두에 적합하지 않은 모델"
   ]
  },
  {
   "cell_type": "markdown",
   "id": "ac11a5e2-350c-403e-ae4d-668f5521a234",
   "metadata": {},
   "source": [
    "### 2.2.1. 모델 복잡도와 데이터셋 크기의 관계\n",
    "일반적으로 데이터셋의 크기가 크고, 다양성이 높으면 과대적합 없이 더 복잡한 모델을 만들 수 있다.   "
   ]
  }
 ],
 "metadata": {
  "kernelspec": {
   "display_name": "Python 3",
   "language": "python",
   "name": "python3"
  },
  "language_info": {
   "codemirror_mode": {
    "name": "ipython",
    "version": 3
   },
   "file_extension": ".py",
   "mimetype": "text/x-python",
   "name": "python",
   "nbconvert_exporter": "python",
   "pygments_lexer": "ipython3",
   "version": "3.8.8"
  }
 },
 "nbformat": 4,
 "nbformat_minor": 5
}
